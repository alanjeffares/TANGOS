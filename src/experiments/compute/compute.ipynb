{
  "nbformat": 4,
  "nbformat_minor": 0,
  "metadata": {
    "colab": {
      "provenance": [],
      "machine_shape": "hm"
    },
    "kernelspec": {
      "name": "python3",
      "display_name": "Python 3"
    },
    "language_info": {
      "name": "python"
    },
    "accelerator": "GPU",
    "gpuClass": "standard"
  },
  "cells": [
    {
      "cell_type": "code",
      "execution_count": null,
      "metadata": {
        "id": "qSdsoAO6TJab"
      },
      "outputs": [],
      "source": [
        "!wget https://archive.ics.uci.edu/ml/machine-learning-databases/00510/Grisoni_et_al_2016_EnvInt88.csv"
      ]
    },
    {
      "cell_type": "code",
      "source": [
        "!pip install functorch\n",
        "from functorch import jacrev\n",
        "from functorch import vmap\n",
        "import os\n",
        "import re\n",
        "import torch\n",
        "import pandas as pd\n",
        "import numpy as np\n",
        "import torchvision\n",
        "import matplotlib.pyplot as plt\n",
        "from torchvision import transforms\n",
        "from torch.utils.data import Dataset, DataLoader, TensorDataset\n",
        "from torchvision import datasets\n",
        "from sklearn.model_selection import train_test_split\n",
        "from sklearn.preprocessing import StandardScaler\n",
        "import sklearn\n",
        "from sklearn import datasets\n",
        "import os\n",
        "import pickle\n",
        "import torch\n",
        "import shutil\n",
        "import itertools\n",
        "import argparse\n",
        "import importlib\n",
        "import json\n",
        "import copy\n",
        "import timeit\n",
        "from pathlib import Path\n",
        "import numpy as np\n",
        "import random\n",
        "import torch.nn as nn\n",
        "from torch import optim\n",
        "from torch.utils.tensorboard import SummaryWriter\n",
        "from sklearn.model_selection import KFold\n",
        "from torch.autograd.functional import jacobian\n",
        "\n",
        "green = plt.cm.Greens(0.2*(6/4) + 0.4)\n",
        "blue = plt.cm.Blues(0.2*(6/4) + 0.4)\n",
        "red = plt.cm.Reds(0.2*(6/4) + 0.4)\n",
        "\n",
        "DEVICE = 'cuda'\n",
        "EPOCHS = 200\n",
        "BATCH_SIZE = 32\n",
        "TRAINING_PATIENCE = 30"
      ],
      "metadata": {
        "id": "r5HfBPUcTOts"
      },
      "execution_count": null,
      "outputs": []
    },
    {
      "cell_type": "code",
      "source": [
        "# science plots requirements\n",
        "!apt-get update\n",
        "!sudo apt-get install dvipng texlive-latex-extra texlive-fonts-recommended cm-super\n",
        "!pip install SciencePlots\n",
        "import matplotlib.pyplot as plt\n",
        "plt.style.reload_library()\n",
        "import scienceplots\n",
        "plt.style.use('science')"
      ],
      "metadata": {
        "id": "_jDpEbnoiTMR"
      },
      "execution_count": 4,
      "outputs": []
    },
    {
      "cell_type": "code",
      "source": [
        "# data loader\n",
        "def load_bioconcentration(seed, train_prop=0.8, batch_size=64):\n",
        "    data = pd.read_csv('Grisoni_et_al_2016_EnvInt88.csv', sep=',')\n",
        "\n",
        "    X = data[['nHM', 'piPC09', 'PCD', 'X2Av', 'MLOGP', 'ON1V', 'N-072', 'B02[C-N]', 'F04[C-O]']]\n",
        "    for var in ['nHM', 'N-072', 'B02[C-N]', 'F04[C-O]']:\n",
        "        one_hot = pd.get_dummies(X[var], prefix=var) # onehotencode categorical column\n",
        "        X = X.drop(var, axis=1)\n",
        "        X = X.join(one_hot)\n",
        "\n",
        "    y = data['logBCF']\n",
        "    X, y = X.to_numpy(), y.to_numpy()\n",
        "\n",
        "    X_train, X_test, y_train, y_test = train_test_split(X, y, train_size=train_prop, random_state=seed)\n",
        "\n",
        "    X_scaler = StandardScaler()\n",
        "    X_train = X_scaler.fit_transform(X_train)\n",
        "    X_test = X_scaler.transform(X_test)\n",
        "    y_scaler = StandardScaler()\n",
        "    y_train = y_scaler.fit_transform(y_train.reshape(-1,1)).reshape(-1)\n",
        "    y_test = y_scaler.transform(y_test.reshape(-1,1)).reshape(-1)\n",
        "\n",
        "    train_dataset = TensorDataset(torch.Tensor(X_train), torch.Tensor(y_train))\n",
        "    test_dataset = TensorDataset(torch.Tensor(X_test), torch.Tensor(y_test))\n",
        "\n",
        "    loaders = {\n",
        "        'train': DataLoader(train_dataset,\n",
        "                           batch_size=batch_size,\n",
        "                           shuffle=True,\n",
        "                           num_workers=1),\n",
        "\n",
        "        'test': DataLoader(test_dataset,\n",
        "                           batch_size=batch_size,\n",
        "                           shuffle=False,\n",
        "                           num_workers=1)\n",
        "    }\n",
        "    return loaders"
      ],
      "metadata": {
        "id": "7drCNUZYTOwW"
      },
      "execution_count": 5,
      "outputs": []
    },
    {
      "cell_type": "code",
      "source": [
        "# helper functions\n",
        "def seed_worker(worker_id):\n",
        "    worker_seed = torch.initial_seed() % 2 ** 32\n",
        "    np.random.seed(worker_seed)\n",
        "    random.seed(worker_seed)\n",
        "\n",
        "class UCI_MLP(nn.Module):\n",
        "    def __init__(self, num_features, latent_size, num_outputs, dropout=0, batch_norm=False):\n",
        "        super(UCI_MLP, self).__init__()\n",
        "        self.dropout = torch.nn.Dropout(p=dropout)\n",
        "        self.batch_norm = batch_norm\n",
        "        d = num_features + 1\n",
        "        self.fc1 = nn.Linear(num_features, d)\n",
        "        self.bn1 = nn.BatchNorm1d(d)\n",
        "        self.relu1 = nn.ReLU(inplace=False)\n",
        "        self.fc2 = nn.Linear(d, d)\n",
        "        self.bn2 = nn.BatchNorm1d(d)\n",
        "        self.relu2 = nn.ReLU(inplace=False)\n",
        "        self.fc3 = nn.Linear(d, num_outputs)\n",
        "\n",
        "    def forward(self, x):\n",
        "        out = self.fc1(x)\n",
        "        if self.batch_norm:\n",
        "          out = self.bn1(out)\n",
        "        out = self.relu1(out)\n",
        "        out = self.dropout(out)\n",
        "        out = self.fc2(out)\n",
        "        if self.batch_norm:\n",
        "          out = self.bn2(out)\n",
        "        h_output = self.relu2(out)\n",
        "        h_output = self.dropout(h_output)\n",
        "        out = self.fc3(h_output)\n",
        "        return out, h_output\n",
        "\n",
        "class parameter_schedule:\n",
        "    def __init__(self, lambda_1, lambda_2, epoch):\n",
        "        self.lambda_1 = lambda_1\n",
        "        self.lambda_2 = lambda_2\n",
        "        self.switch_epoch = epoch\n",
        "        \n",
        "    def get_reg(self, epoch):\n",
        "        if epoch < self.switch_epoch:\n",
        "            return 0, 0\n",
        "        else:\n",
        "            return self.lambda_1, self.lambda_2\n",
        "\n",
        "\n",
        "\n",
        "def train_epoch(model, train_loader, optimiser, l1, l2, ss, regulariser, device='cuda'):\n",
        "    loss_func = nn.MSELoss()\n",
        "    # loss_func = nn.CrossEntropyLoss()\n",
        "    reg_loss = 0\n",
        "    running_loss = 0\n",
        "    for i, (data, label) in enumerate(train_loader):\n",
        "        model.train()\n",
        "        data, label = data.to(device), label.to(device)\n",
        "        optimiser.zero_grad()\n",
        "        output, _ = model(data)\n",
        "\n",
        "        pred_loss = loss_func(output.squeeze(), label)\n",
        "\n",
        "        if regulariser == 'TANGOS' and (l1 > 0 or l2 > 0):\n",
        "            sparsity_loss, correlation_loss = attr_loss(model, data, device=device, subsample=ss)\n",
        "            reg_loss = l1 * sparsity_loss + l2 * correlation_loss\n",
        "\n",
        "        loss = pred_loss + reg_loss\n",
        "        running_loss += pred_loss.item()\n",
        "        loss.backward()\n",
        "        optimiser.step()\n",
        "    return model, running_loss/(i+1)\n",
        "\n",
        "def evaluate(model, test_loader, device=DEVICE):\n",
        "    loss_func = nn.MSELoss()\n",
        "    # loss_func = nn.CrossEntropyLoss()\n",
        "    running_loss, running_pred_loss = 0, 0\n",
        "    for epoch, (data, label) in enumerate(test_loader):\n",
        "        model.eval()\n",
        "        data, label = data.to(device), label.to(device)\n",
        "\n",
        "        output, _ = model(data)\n",
        "\n",
        "        # compute metric\n",
        "        pred_loss = loss_func(output.squeeze(), label)\n",
        "        loss = pred_loss\n",
        "\n",
        "        running_loss += loss.item()\n",
        "        running_pred_loss += pred_loss.item()\n",
        "\n",
        "    return running_pred_loss/(epoch + 1), running_loss/(epoch + 1)\n",
        "\n",
        "def attr_loss(forward_func, data_input, device='cpu', subsample=-1):\n",
        "\n",
        "    ########## UPDATE functools ############\n",
        "    batch_size = data_input.shape[0]\n",
        "    def to_latent(input_):\n",
        "        _, h_out = forward_func(input_)\n",
        "        return h_out\n",
        "    data_input = data_input.clone().requires_grad_(True)\n",
        "    jacobian = vmap(jacrev(to_latent))(data_input)\n",
        "    neuron_attr = jacobian.swapaxes(0,1)\n",
        "    h_dim = neuron_attr.shape[0]\n",
        "    \n",
        "    if len(neuron_attr.shape) > 3:\n",
        "        # h_dim x batch_size x features\n",
        "        neuron_attr = neuron_attr.flatten(start_dim=2)\n",
        "\n",
        "    sparsity_loss = torch.norm(neuron_attr, p=1)/(batch_size*h_dim*neuron_attr.shape[2])\n",
        "\n",
        "    cos = nn.CosineSimilarity(dim=1, eps=1e-6)    \n",
        "    correlation_loss = torch.tensor(0., requires_grad=True).to(device)\n",
        "    \n",
        "    if subsample > 0 and subsample < h_dim*(h_dim-1)/2:\n",
        "        tensor_pairs = [list(np.random.choice(h_dim, size=(2), replace=False)) for i in range(subsample)]\n",
        "        for tensor_pair in tensor_pairs:\n",
        "            pairwise_corr = cos(neuron_attr[tensor_pair[0], :, :], neuron_attr[tensor_pair[1], :, :]).norm(p=1)\n",
        "            correlation_loss = correlation_loss + pairwise_corr\n",
        "\n",
        "        correlation_loss = correlation_loss/(batch_size*subsample)\n",
        "\n",
        "    else:\n",
        "        for neuron_i in range(1, h_dim):\n",
        "            for neuron_j in range(0, neuron_i):\n",
        "                pairwise_corr = cos(neuron_attr[neuron_i, :, :], neuron_attr[neuron_j, :, :]).norm(p=1)\n",
        "                correlation_loss = correlation_loss + pairwise_corr\n",
        "        num_pairs = h_dim*(h_dim-1)/2\n",
        "        correlation_loss = correlation_loss/(batch_size*num_pairs)\n",
        "\n",
        "    return sparsity_loss, correlation_loss\n"
      ],
      "metadata": {
        "id": "XT49G9JmTOy5"
      },
      "execution_count": 6,
      "outputs": []
    },
    {
      "cell_type": "code",
      "source": [
        "# training logic\n",
        "regulariser = 'TANGOS'\n",
        "latent_size = -1\n",
        "ss = 200\n",
        "weight_decay = 0\n",
        "def train_model(regulariser, latent_size, ss, weight_decay):\n",
        "    data = load_bioconcentration(0)\n",
        "    trainloader = data['train']\n",
        "    valloader = data['test']\n",
        "\n",
        "    parameter_sched = 0\n",
        "    lambda_1, lambda_2 = 100, 0.1\n",
        "    lr = 0.001\n",
        "    l1, l2 = 0, 0\n",
        "\n",
        "    model = UCI_MLP(num_features=45, latent_size=latent_size, num_outputs=1).to(DEVICE)\n",
        "    optimiser = optim.Adam(model.parameters(), lr=lr, weight_decay=weight_decay)\n",
        "\n",
        "    if regulariser == 'TANGOS':\n",
        "        parameter_scheduler = parameter_schedule(lambda_1, lambda_2, parameter_sched)\n",
        "    else:\n",
        "        parameter_scheduler = None\n",
        "\n",
        "    best_val_loss = np.inf; last_update = 0\n",
        "    train_loss = []\n",
        "    val_loss_ls = []\n",
        "    epoch_runtimes = []\n",
        "    for epoch in range(EPOCHS):\n",
        "        epoch_start = timeit.default_timer()\n",
        "        if regulariser == 'TANGOS':\n",
        "            lambda_1, lambda_2 = parameter_scheduler.get_reg(epoch)\n",
        "            l1 = lambda_1\n",
        "            l2 = lambda_2\n",
        "\n",
        "        model, epoch_loss = train_epoch(model, trainloader, optimiser, l1, l2, ss,\n",
        "                                        regulariser, device=DEVICE)\n",
        "        val_loss, _ = evaluate(model, valloader, device=DEVICE)\n",
        "\n",
        "        train_loss.append(epoch_loss)\n",
        "        val_loss_ls.append(val_loss)\n",
        "\n",
        "        if (val_loss < best_val_loss) or (epoch < 5):\n",
        "            best_val_loss = val_loss\n",
        "            best_model = copy.deepcopy(model)\n",
        "            last_update = epoch\n",
        "\n",
        "        epoch_end = timeit.default_timer()\n",
        "        epoch_runtimes.append(epoch_end - epoch_start)\n",
        "        # early stopping criteria\n",
        "        if epoch - last_update == TRAINING_PATIENCE:\n",
        "            break\n",
        "    mean_epoch_runtime = sum(epoch_runtimes)/len(epoch_runtimes)\n",
        "    results = [mean_epoch_runtime, last_update+1, val_loss_ls[last_update]]\n",
        "    return results\n",
        "\n",
        "\n",
        "\n"
      ],
      "metadata": {
        "id": "RhiMaOycTO1o"
      },
      "execution_count": 7,
      "outputs": []
    },
    {
      "cell_type": "code",
      "source": [
        "# run TANGOS loop\n",
        "torch.manual_seed(0)\n",
        "torch.cuda.manual_seed(0)\n",
        "np.random.seed(0)\n",
        "TANGOS_results = []\n",
        "for i in range(10):\n",
        "    print(i)\n",
        "    for ss in [25,50,75,100,125,150]:\n",
        "        results = train_model('TANGOS', i, ss, 0)\n",
        "        results.extend([latent_size, ss])\n",
        "        TANGOS_results.append(results)"
      ],
      "metadata": {
        "colab": {
          "base_uri": "https://localhost:8080/"
        },
        "id": "B4LQFLy99sLd",
        "outputId": "a6a8cb69-c4f9-4607-890b-0b966c8ea412"
      },
      "execution_count": null,
      "outputs": [
        {
          "output_type": "stream",
          "name": "stdout",
          "text": [
            "0\n",
            "1\n",
            "2\n",
            "3\n",
            "4\n",
            "5\n",
            "6\n",
            "7\n",
            "8\n",
            "9\n"
          ]
        }
      ]
    },
    {
      "cell_type": "code",
      "source": [
        "# run baseline (l2) loop\n",
        "torch.manual_seed(0)\n",
        "torch.cuda.manual_seed(0)\n",
        "np.random.seed(0)\n",
        "l2_results = []\n",
        "weight = 0.1\n",
        "for i in range(10):\n",
        "    print(i)\n",
        "    results = train_model('L2', i, ss, weight)\n",
        "    results.extend([latent_size, ss])\n",
        "    l2_results.append(results)"
      ],
      "metadata": {
        "colab": {
          "base_uri": "https://localhost:8080/"
        },
        "id": "x-Bx6HYPZZ1n",
        "outputId": "52f1befa-ac44-4cb1-8d67-5028332e5570"
      },
      "execution_count": 8,
      "outputs": [
        {
          "output_type": "stream",
          "name": "stdout",
          "text": [
            "0\n",
            "1\n",
            "2\n",
            "3\n",
            "4\n",
            "5\n",
            "6\n",
            "7\n",
            "8\n",
            "9\n"
          ]
        }
      ]
    },
    {
      "cell_type": "code",
      "source": [
        "col_names = ['mean epoch runtime', 'num epochs', 'mse', 'latent size', 'ss']\n",
        "TANGOS_results_pd = pd.DataFrame(TANGOS_results, columns=col_names)\n",
        "l2_results_pd = pd.DataFrame(l2_results, columns=col_names)"
      ],
      "metadata": {
        "id": "NB0HG9WB8sNr"
      },
      "execution_count": null,
      "outputs": []
    },
    {
      "cell_type": "code",
      "source": [],
      "metadata": {
        "id": "803Kx0uWdQeI"
      },
      "execution_count": null,
      "outputs": []
    },
    {
      "cell_type": "code",
      "source": [
        "# plot loss against number of sampled pairs\n",
        "\n",
        "label_size = 30\n",
        "ticksize = 24\n",
        "fs_legend = 30\n",
        "lwt = 4\n",
        "\n",
        "plt.figure(figsize=(10,6))\n",
        "grouped_ss_mean = TANGOS_results_pd.groupby('ss').mean()\n",
        "grouped_ss_std = TANGOS_results_pd.groupby('ss').std()\n",
        "plt.plot(grouped_ss_mean.index, grouped_ss_mean['mse'], linewidth=lwt, color=blue)\n",
        "plt.fill_between(grouped_ss_mean.index, grouped_ss_mean['mse'] - grouped_ss_std['mse'],\n",
        "                 y2=grouped_ss_mean['mse'] + grouped_ss_std['mse'], color=blue,\n",
        "                    alpha=0.25)\n",
        "l2_mean = l2_results_pd['mse'].mean()\n",
        "l2_std = l2_results_pd['mse'].std()\n",
        "plt.plot([25, 150], [l2_mean, l2_mean], linewidth=lwt, color=red)\n",
        "plt.fill_between([25, 150], l2_mean - l2_std, y2=l2_mean + l2_std, color=red,\n",
        "                    alpha=0.25)\n",
        "\n",
        "plt.xlabel('Number of sampled pairs', fontsize=label_size)#, labelpad=20)\n",
        "plt.xticks([25,50,75,100,125,150])\n",
        "plt.yticks([0.225,0.240,0.255])\n",
        "plt.ylabel('Loss', fontsize=label_size)\n",
        "plt.xticks(fontsize=ticksize)\n",
        "plt.yticks(fontsize=ticksize)\n",
        "\n",
        "# plt.title('Performance with increasing number of sampled pairs')\n",
        "plt.savefig('ss_performance.pdf', format='pdf', dpi=1200)\n",
        "plt.show()"
      ],
      "metadata": {
        "colab": {
          "base_uri": "https://localhost:8080/",
          "height": 413
        },
        "id": "2Y9PAj37VK77",
        "outputId": "3fc6c2c1-78c0-4e72-d1c5-f7872938c6e3"
      },
      "execution_count": null,
      "outputs": [
        {
          "output_type": "display_data",
          "data": {
            "text/plain": [
              "<Figure size 720x432 with 1 Axes>"
            ],
            "image/png": "[encoded data removed]"
          },
          "metadata": {
            "needs_background": "light"
          }
        }
      ]
    },
    {
      "cell_type": "code",
      "source": [
        "# plot relative runtime against number of sampled pairs\n",
        "plt.figure(figsize=(10,6))\n",
        "\n",
        "plt.plot(grouped_ss_mean.index, grouped_ss_mean['mean epoch runtime'], color=blue, label='TANGOS', linewidth=lwt)\n",
        "plt.fill_between(grouped_ss_mean.index, grouped_ss_mean['mean epoch runtime'] - grouped_ss_std['mean epoch runtime'],\n",
        "                 y2=grouped_ss_mean['mean epoch runtime'] + grouped_ss_std['mean epoch runtime'], color=blue,\n",
        "                    alpha=0.25)\n",
        "\n",
        "l2_mean = l2_results_pd['mean epoch runtime'].mean()\n",
        "l2_std = l2_results_pd['mean epoch runtime'].std()\n",
        "plt.plot([25, 150], [l2_mean, l2_mean], linewidth=lwt, color=red, label='L2')\n",
        "plt.fill_between([25, 150], l2_mean - l2_std, y2=l2_mean + l2_std, color=red,\n",
        "                    alpha=0.25)\n",
        "\n",
        "plt.xlabel('Number of sampled pairs', fontsize=label_size)\n",
        "plt.xticks([25,50,75,100,125,150])\n",
        "plt.ylabel('Relative Runtime Increase', fontsize=label_size)\n",
        "clock_time_ticks = [l2_mean * (i+1) for i in range(5)]\n",
        "clock_time_labels = [rf'$\\times${i+1}' for i in range(5)]\n",
        "plt.yticks(clock_time_ticks, clock_time_labels)\n",
        "plt.xticks(fontsize=ticksize)\n",
        "plt.yticks(fontsize=ticksize)\n",
        "\n",
        "handles, labels = plt.gca().get_legend_handles_labels()\n",
        "order = [0,1]\n",
        "lgnd = plt.legend([handles[idx] for idx in order],[labels[idx] for idx in order], fontsize=fs_legend, frameon=False, loc=(0.03,0.7))\n",
        "for handle in lgnd.legendHandles:\n",
        "    handle.set_linewidth(7)\n",
        "# plt.title('Clock time per epoch with increasing number of sampled pairs')\n",
        "plt.savefig('ss_speed.pdf', format='pdf', dpi=1200)\n",
        "\n",
        "plt.show()"
      ],
      "metadata": {
        "colab": {
          "base_uri": "https://localhost:8080/",
          "height": 413
        },
        "id": "RV_CPkS1eCcr",
        "outputId": "9576aceb-6d5f-4bae-c3e8-ad12f41811dd"
      },
      "execution_count": null,
      "outputs": [
        {
          "output_type": "display_data",
          "data": {
            "text/plain": [
              "<Figure size 720x432 with 1 Axes>"
            ],
            "image/png": "[encoded data removed]"
          },
          "metadata": {
            "needs_background": "light"
          }
        }
      ]
    },
    {
      "cell_type": "code",
      "source": [],
      "metadata": {
        "id": "cENMDPkpgILg"
      },
      "execution_count": null,
      "outputs": []
    },
    {
      "cell_type": "code",
      "source": [],
      "metadata": {
        "id": "vK0Pr7bwinb2"
      },
      "execution_count": null,
      "outputs": []
    }
  ]
}